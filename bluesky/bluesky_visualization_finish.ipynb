{
  "cells": [
    {
      "cell_type": "markdown",
      "metadata": {
        "colab_type": "text",
        "id": "view-in-github"
      },
      "source": [
        "<a href=\"https://colab.research.google.com/github/AMSUCF/DHProgramming/blob/main/Bluesky_Visualization.ipynb\" target=\"_parent\"><img src=\"https://colab.research.google.com/assets/colab-badge.svg\" alt=\"Open In Colab\"/></a>"
      ]
    },
    {
      "cell_type": "code",
      "execution_count": null,
      "metadata": {
        "id": "XzfALZETQOBF"
      },
      "outputs": [],
      "source": [
        "!pip install -U datasets fsspec\n",
        "\n",
        "\n",
        "from datasets import load_dataset\n",
        "import re\n",
        "\n",
        "# ✅ Correct way to load a Hugging Face-hosted dataset\n",
        "  dataset = load_dataset(\"withalim/bluesky-posts\", split=\"train\")"
      ]
    },
    {
      "cell_type": "code",
      "execution_count": 3,
      "metadata": {
        "colab": {
          "base_uri": "https://localhost:8080/"
        },
        "id": "DynWDpQsQRcJ",
        "outputId": "ea3770fa-cb2d-45de-8fb4-2c62590ba936"
      },
      "outputs": [
        {
          "data": {
            "text/plain": [
              "{'text': 'yo',\n",
              " 'created_at': '1001-01-11T01:11:11.804Z',\n",
              " 'author': 'jarivi.bsky.social',\n",
              " 'uri': 'at://did:plc:kblt2p6hbypqurirkc723vht/app.bsky.feed.post/3lc4iv3krp22j',\n",
              " 'has_images': False,\n",
              " 'reply_to': None}"
            ]
          },
          "execution_count": 3,
          "metadata": {},
          "output_type": "execute_result"
        }
      ],
      "source": [
        "dataset[0]"
      ]
    },
    {
      "cell_type": "code",
      "execution_count": 7,
      "metadata": {
        "colab": {
          "base_uri": "https://localhost:8080/"
        },
        "id": "wlELwYa2RQey",
        "outputId": "8c31dd53-8609-4684-fa6f-188ce33531a6"
      },
      "outputs": [
        {
          "name": "stdout",
          "output_type": "stream",
          "text": [
            "7877660\n"
          ]
        }
      ],
      "source": [
        "print(len(dataset))"
      ]
    },
    {
      "cell_type": "code",
      "execution_count": 12,
      "metadata": {
        "colab": {
          "base_uri": "https://localhost:8080/"
        },
        "collapsed": true,
        "id": "bLfcDzrMKop5",
        "outputId": "a3b27c2c-c4d6-437b-c36f-e73c7e68c7bf"
      },
      "outputs": [
        {
          "name": "stdout",
          "output_type": "stream",
          "text": [
            "Processed 1000 posts.\n",
            "Processed 2000 posts.\n",
            "Processed 3000 posts.\n",
            "Processed 4000 posts.\n",
            "Processed 5000 posts.\n",
            "Processed 6000 posts.\n",
            "Processed 7000 posts.\n",
            "Processed 8000 posts.\n",
            "Processed 9000 posts.\n",
            "Processed 10000 posts.\n",
            "Processed 11000 posts.\n",
            "Processed 12000 posts.\n",
            "Processed 13000 posts.\n",
            "Processed 14000 posts.\n",
            "Processed 15000 posts.\n",
            "Processed 16000 posts.\n",
            "Processed 17000 posts.\n",
            "Processed 18000 posts.\n",
            "Processed 19000 posts.\n",
            "Processed 20000 posts.\n",
            "Processed 21000 posts.\n",
            "Processed 22000 posts.\n",
            "Processed 23000 posts.\n",
            "Processed 24000 posts.\n",
            "Processed 25000 posts.\n",
            "Processed 26000 posts.\n",
            "Processed 27000 posts.\n",
            "Processed 28000 posts.\n",
            "Processed 29000 posts.\n",
            "Processed 30000 posts.\n",
            "Processed 31000 posts.\n",
            "Processed 32000 posts.\n",
            "Processed 33000 posts.\n",
            "Processed 34000 posts.\n",
            "Processed 35000 posts.\n",
            "Processed 36000 posts.\n",
            "Processed 37000 posts.\n",
            "Processed 38000 posts.\n",
            "Processed 39000 posts.\n",
            "Processed 40000 posts.\n",
            "Processed 41000 posts.\n",
            "Processed 42000 posts.\n",
            "Processed 43000 posts.\n",
            "Processed 44000 posts.\n",
            "Processed 45000 posts.\n",
            "Processed 46000 posts.\n",
            "Processed 47000 posts.\n",
            "Processed 48000 posts.\n",
            "Processed 49000 posts.\n",
            "Processed 50000 posts.\n",
            "Processed 51000 posts.\n",
            "Processed 52000 posts.\n",
            "Processed 53000 posts.\n",
            "Processed 54000 posts.\n",
            "Processed 55000 posts.\n",
            "Processed 56000 posts.\n",
            "Processed 57000 posts.\n",
            "Processed 58000 posts.\n",
            "Processed 59000 posts.\n",
            "Processed 60000 posts.\n",
            "Processed 61000 posts.\n",
            "Processed 62000 posts.\n",
            "Processed 63000 posts.\n",
            "Collected 10000 matching posts.\n"
          ]
        }
      ],
      "source": [
        "# Precompiled regex pattern (case-insensitive)\n",
        "pattern = re.compile(r\"(ai|artificial intelligence)\", re.IGNORECASE)\n",
        "\n",
        "# Collect matching posts\n",
        "filtered_posts = []\n",
        "max_results = 10000  # adjust as needed\n",
        "post_count = 0\n",
        "for post in dataset:\n",
        "    text = post.get(\"text\", \"\")\n",
        "    if pattern.search(text):\n",
        "        filtered_posts.append(post)\n",
        "    if len(filtered_posts) >= max_results:\n",
        "        break\n",
        "    post_count += 1\n",
        "    if post_count % 1000 == 0:\n",
        "        print(f\"Processed {post_count} posts.\")\n",
        "\n",
        "print(f\"Collected {len(filtered_posts)} matching posts.\")\n"
      ]
    },
    {
      "cell_type": "code",
      "execution_count": null,
      "metadata": {
        "id": "XysJmt2qMNIn"
      },
      "outputs": [],
      "source": [
        "# OPTIONAL: prompt: Mount a google drive directory to store data\n",
        "\n",
        "from google.colab import drive\n",
        "drive.mount('/content/drive')\n"
      ]
    },
    {
      "cell_type": "code",
      "execution_count": 13,
      "metadata": {
        "id": "fnphw7FpKs-p"
      },
      "outputs": [],
      "source": [
        "import json\n",
        "\n",
        "with open(\"dh_hashtag_posts.jsonl\", \"w\") as f:\n",
        "    for post in filtered_posts:\n",
        "        f.write(json.dumps(post) + \"\\n\")"
      ]
    },
    {
      "cell_type": "code",
      "execution_count": 16,
      "metadata": {
        "id": "ZpSAnnfGR9ux"
      },
      "outputs": [],
      "source": [
        "import json\n",
        "import re\n",
        "from collections import defaultdict\n",
        "\n",
        "# Load your filtered posts\n",
        "with open(\"dh_hashtag_posts.jsonl\") as f:\n",
        "    posts = [json.loads(line) for line in f]\n",
        "\n",
        "nodes = {}\n",
        "edges = defaultdict(int)\n",
        "\n",
        "for post in posts:\n",
        "    # Check if 'author' key exists and use its value directly as the handle\n",
        "    if \"author\" in post:\n",
        "        author = post[\"author\"]\n",
        "        # Ensure author is a string before proceeding\n",
        "        if isinstance(author, str):\n",
        "            text = post.get(\"text\", \"\")\n",
        "            mentions = re.findall(r\"@([a-zA-Z0-9_.-]+)\", text)\n",
        "\n",
        "            nodes[author] = True\n",
        "            for mention in mentions:\n",
        "                nodes[mention] = True\n",
        "                edge_key = tuple(sorted([author, mention]))  # undirected\n",
        "                edges[edge_key] += 1\n",
        "        # else:\n",
        "            # Optionally handle cases where 'author' exists but is not a string\n",
        "            # print(f\"Skipping post with non-string author: {post}\")\n",
        "    # else:\n",
        "        # Optionally handle posts without an 'author' key\n",
        "        # print(f\"Skipping post with no author: {post}\")\n",
        "\n",
        "\n",
        "# Build graph\n",
        "graph = {\n",
        "    \"nodes\": [{\"id\": u} for u in nodes],\n",
        "    \"links\": [{\"source\": a, \"target\": b, \"value\": w} for (a, b), w in edges.items()]\n",
        "}\n",
        "\n",
        "with open(\"graph.json\", \"w\") as f:\n",
        "    json.dump(graph, f, indent=2)"
      ]
    },
    {
      "cell_type": "code",
      "execution_count": 17,
      "metadata": {
        "id": "9HlNOY3oSSsx"
      },
      "outputs": [],
      "source": [
        "import json\n",
        "from IPython.display import HTML\n",
        "\n",
        "# Keep it small for demo (or filter)\n",
        "small_graph = {\n",
        "    \"nodes\": graph[\"nodes\"][:50],\n",
        "    \"links\": [l for l in graph[\"links\"] if l[\"source\"] in {n[\"id\"] for n in graph[\"nodes\"][:50]} and l[\"target\"] in {n[\"id\"] for n in graph[\"nodes\"][:50]}]\n",
        "}\n",
        "\n",
        "graph_data = json.dumps(small_graph)\n"
      ]
    },
    {
      "cell_type": "code",
      "execution_count": 19,
      "metadata": {
        "colab": {
          "base_uri": "https://localhost:8080/"
        },
        "id": "fGDajc9zS3-2",
        "outputId": "11868f22-a354-40c0-9b83-c1ff938e6e78"
      },
      "outputs": [
        {
          "name": "stdout",
          "output_type": "stream",
          "text": [
            "Sample Nodes:\n",
            "[\n",
            "  {\n",
            "    \"id\": \"leiarcaica5.bsky.social\"\n",
            "  },\n",
            "  {\n",
            "    \"id\": \"leiarcaica4.bsky.social\"\n",
            "  },\n",
            "  {\n",
            "    \"id\": \"jestamusic.bsky.social\"\n",
            "  },\n",
            "  {\n",
            "    \"id\": \"meggan.bsky.social\"\n",
            "  },\n",
            "  {\n",
            "    \"id\": \"d365geektest.bsky.social\"\n",
            "  },\n",
            "  {\n",
            "    \"id\": \"nateritter.com\"\n",
            "  },\n",
            "  {\n",
            "    \"id\": \"joec0914\"\n",
            "  },\n",
            "  {\n",
            "    \"id\": \"ashmaurya.bsky.social\"\n",
            "  },\n",
            "  {\n",
            "    \"id\": \"mrbula.bsky.social\"\n",
            "  },\n",
            "  {\n",
            "    \"id\": \"missrogue\"\n",
            "  }\n",
            "]\n",
            "\n",
            "Sample Links:\n",
            "[\n",
            "  {\n",
            "    \"source\": \"leiarcaica4.bsky.social\",\n",
            "    \"target\": \"leiarcaica5.bsky.social\",\n",
            "    \"value\": 2\n",
            "  },\n",
            "  {\n",
            "    \"source\": \"joec0914\",\n",
            "    \"target\": \"nateritter.com\",\n",
            "    \"value\": 1\n",
            "  },\n",
            "  {\n",
            "    \"source\": \"missrogue\",\n",
            "    \"target\": \"nateritter.com\",\n",
            "    \"value\": 1\n",
            "  },\n",
            "  {\n",
            "    \"source\": \"mediaphyter.\",\n",
            "    \"target\": \"nateritter.com\",\n",
            "    \"value\": 1\n",
            "  },\n",
            "  {\n",
            "    \"source\": \"humanlever\",\n",
            "    \"target\": \"nateritter.com\",\n",
            "    \"value\": 1\n",
            "  },\n",
            "  {\n",
            "    \"source\": \"OnkelSchark\",\n",
            "    \"target\": \"nateritter.com\",\n",
            "    \"value\": 1\n",
            "  },\n",
            "  {\n",
            "    \"source\": \"factoryjoe\",\n",
            "    \"target\": \"nateritter.com\",\n",
            "    \"value\": 1\n",
            "  },\n",
            "  {\n",
            "    \"source\": \"BreakingNewsOn\",\n",
            "    \"target\": \"nateritter.com\",\n",
            "    \"value\": 1\n",
            "  },\n",
            "  {\n",
            "    \"source\": \"freemans\",\n",
            "    \"target\": \"nateritter.com\",\n",
            "    \"value\": 1\n",
            "  },\n",
            "  {\n",
            "    \"source\": \"amberminty\",\n",
            "    \"target\": \"nateritter.com\",\n",
            "    \"value\": 3\n",
            "  }\n",
            "]\n"
          ]
        }
      ],
      "source": [
        "# prompt: # Get a sample of the data from the top of graph.json\n",
        "\n",
        "# Load the JSON data\n",
        "with open('graph.json', 'r') as f:\n",
        "    data = json.load(f)\n",
        "\n",
        "# Get the first few items\n",
        "sample_nodes = data['nodes'][:10]  # Sample first 10 nodes\n",
        "sample_links = data['links'][:10]  # Sample first 10 links\n",
        "\n",
        "# Print the sample\n",
        "print(\"Sample Nodes:\")\n",
        "print(json.dumps(sample_nodes, indent=2))\n",
        "\n",
        "print(\"\\nSample Links:\")\n",
        "print(json.dumps(sample_links, indent=2))"
      ]
    },
    {
      "cell_type": "code",
      "execution_count": 20,
      "metadata": {
        "id": "JV-fixgTTHqi"
      },
      "outputs": [],
      "source": [
        "import json\n",
        "from IPython.display import HTML\n",
        "\n",
        "# Load graph from file (use your full path if needed)\n",
        "with open(\"graph.json\") as f:\n",
        "    graph_data = json.load(f)\n",
        "\n",
        "# Optional: filter for a smaller graph to avoid crashing the browser\n",
        "subset_nodes = graph_data[\"nodes\"][:100]\n",
        "subset_ids = {n[\"id\"] for n in subset_nodes}\n",
        "subset_links = [l for l in graph_data[\"links\"] if l[\"source\"] in subset_ids and l[\"target\"] in subset_ids]\n",
        "\n",
        "subset_graph = {\n",
        "    \"nodes\": subset_nodes,\n",
        "    \"links\": subset_links\n",
        "}\n",
        "\n",
        "# Convert to JSON string for JS\n",
        "graph_json = json.dumps(subset_graph)\n"
      ]
    },
    {
      "cell_type": "markdown",
      "metadata": {
        "id": "tgV81BaUaoKB"
      },
      "source": []
    },
    {
      "cell_type": "code",
      "execution_count": 24,
      "metadata": {
        "colab": {
          "base_uri": "https://localhost:8080/",
          "height": 738
        },
        "id": "cdmRafCNSZ9I",
        "outputId": "a6f874f1-b1d4-4d9f-e811-10595bc5f584"
      },
      "outputs": [
        {
          "data": {
            "text/html": [
              "\n",
              "<div id=\"graph\" style=\"width: 100%; height: 700px; border:1px solid #ccc;\"></div>\n",
              "<script src=\"https://d3js.org/d3.v7.min.js\"></script>\n",
              "<script>\n",
              "  const graph = {\"nodes\": [{\"id\": \"leiarcaica5.bsky.social\"}, {\"id\": \"leiarcaica4.bsky.social\"}, {\"id\": \"jestamusic.bsky.social\"}, {\"id\": \"meggan.bsky.social\"}, {\"id\": \"d365geektest.bsky.social\"}, {\"id\": \"nateritter.com\"}, {\"id\": \"joec0914\"}, {\"id\": \"ashmaurya.bsky.social\"}, {\"id\": \"mrbula.bsky.social\"}, {\"id\": \"missrogue\"}, {\"id\": \"mdmcgeary.bsky.social\"}, {\"id\": \"humanbn.bsky.social\"}, {\"id\": \"simnett.bsky.social\"}, {\"id\": \"mediaphyter.\"}, {\"id\": \"matthieucalu.bsky.social\"}, {\"id\": \"humanlever\"}, {\"id\": \"OnkelSchark\"}, {\"id\": \"fergus.bsky.social\"}, {\"id\": \"factoryjoe\"}, {\"id\": \"BreakingNewsOn\"}, {\"id\": \"xtinecantera.bsky.social\"}, {\"id\": \"transmothra.bsky.social\"}, {\"id\": \"freemans\"}, {\"id\": \"amberminty\"}, {\"id\": \"lorettaelaine\"}, {\"id\": \"necrotelicom.bsky.social\"}, {\"id\": \"martinenatasha\"}, {\"id\": \"sarahmcarr\"}, {\"id\": \"kjellnygren\"}, {\"id\": \"stewtopia\"}, {\"id\": \"tillyritter\"}, {\"id\": \"nathanhein\"}, {\"id\": \"dearsarah.bsky.social\"}, {\"id\": \"mickipedia\"}, {\"id\": \"YoukuBuzz\"}, {\"id\": \"davidglasser.net\"}, {\"id\": \"tigerbeat\"}, {\"id\": \"Roam2Rome\"}, {\"id\": \"MyMelange\"}, {\"id\": \"kag2u\"}, {\"id\": \"artistatlarge\"}, {\"id\": \"amelicl.bsky.social\"}, {\"id\": \"captainannoying.bsky.social\"}, {\"id\": \"10bagspacking.bsky.social\"}, {\"id\": \"silveraspen.bsky.social\"}, {\"id\": \"ironicsegue\"}, {\"id\": \"donthorson\"}, {\"id\": \"sachajudd.com\"}, {\"id\": \"TravelNotebook\"}, {\"id\": \"wendyperrin\"}, {\"id\": \"cbakes.\"}, {\"id\": \"politics_in_aus\"}, {\"id\": \"plainjanehu\"}, {\"id\": \"jeff.at\"}, {\"id\": \"modularpeople\"}, {\"id\": \"di-atribe.bsky.social\"}, {\"id\": \"mydwynter\"}, {\"id\": \"marymayblood\"}, {\"id\": \"odori_ko\"}, {\"id\": \"herb247.bsky.social\"}, {\"id\": \"alisonrose_com\"}, {\"id\": \"susanscrupski.bsky.social\"}, {\"id\": \"claircmac\"}, {\"id\": \"netociety\"}, {\"id\": \"ILoveVerdi\"}, {\"id\": \"soarin10.bsky.social\"}, {\"id\": \"ffmisadoraduncan.bsky.social\"}, {\"id\": \"kimota.bsky.social\"}, {\"id\": \"genrobey\"}, {\"id\": \"jturco.\"}, {\"id\": \"harrisonamj.com\"}, {\"id\": \"kootsoop.com\"}, {\"id\": \"stephengraves.co.uk\"}, {\"id\": \"AlaiaL\"}, {\"id\": \"mdanielson924\"}, {\"id\": \"dahowlett\"}, {\"id\": \"WaywardSeedFarm\"}, {\"id\": \"JRDog\"}, {\"id\": \"Etsy\"}, {\"id\": \"plaidpony\"}, {\"id\": \"lisathewaitress\"}, {\"id\": \"columbusfoodie\"}, {\"id\": \"maiasz\"}, {\"id\": \"mailplane.\"}, {\"id\": \"kevinpalmer.bsky.social\"}, {\"id\": \"tourgueniev.bsky.social\"}, {\"id\": \"sandikt.bsky.social\"}, {\"id\": \"birdmanesq\"}, {\"id\": \"HappyHotelier...\"}, {\"id\": \"LPUSAstaff\"}, {\"id\": \"reginawhite.bsky.social\"}, {\"id\": \"etoiline.bsky.social\"}, {\"id\": \"annmichael.bsky.social\"}, {\"id\": \"jblossom\"}, {\"id\": \"benoithamon\"}, {\"id\": \"jesolomon\"}, {\"id\": \"bruetz\"}, {\"id\": \"thorpus\"}, {\"id\": \"christin612.bsky.social\"}, {\"id\": \"stephmuji\"}, {\"id\": \"KGSR\"}, {\"id\": \"emnk.bsky.social\"}, {\"id\": \"reidontravel\"}, {\"id\": \"laughingwoman\"}, {\"id\": \"rstrohmeyer\"}, {\"id\": \"foodieguide\"}, {\"id\": \"rsl318.bsky.social\"}, {\"id\": \"RichardBlais\"}, {\"id\": \"fserra\"}, {\"id\": \"jimmyfallon\"}, {\"id\": \"gstrompolos\"}, {\"id\": \"TheDudeDean\"}, {\"id\": \"maketravelfair\"}, {\"id\": \"peterkim\"}, {\"id\": \"expatcoachmegan\"}, {\"id\": \"toddlucier\"}, {\"id\": \"trevoryoung\"}, {\"id\": \"fairminder\"}, {\"id\": \"LisaSabinWilson\"}, {\"id\": \"tbogg\"}, {\"id\": \"eegah\"}, {\"id\": \"micah\"}, {\"id\": \"leawoodward\"}, {\"id\": \"nerdseyeview\"}, {\"id\": \"laradunston\"}, {\"id\": \"travelrants\"}, {\"id\": \"thetripchicks\"}, {\"id\": \"gmail.com\"}, {\"id\": \"sethgrimes.bsky.social\"}, {\"id\": \"samdaams\"}, {\"id\": \"rbulanti\"}, {\"id\": \"CIOonline\"}, {\"id\": \"cglynch.\"}, {\"id\": \"christianaglen.com\"}, {\"id\": \"the_real_shaq\"}, {\"id\": \"kanderson\"}, {\"id\": \"fr4ncis.bsky.social\"}, {\"id\": \"sarah_haskins\"}, {\"id\": \"aejes\"}, {\"id\": \"WCBE905Columbus\"}, {\"id\": \"DirtyFranksDogs\"}, {\"id\": \"funnyordie\"}, {\"id\": \"surlyshirley\"}, {\"id\": \"lm29\"}, {\"id\": \"apelad\"}, {\"id\": \"treehousecbus\"}, {\"id\": \"rainnwilson\"}, {\"id\": \"rtsadvocate\"}, {\"id\": \"chuckatmain\"}, {\"id\": \"donewaiting\"}, {\"id\": \"aharperhess\"}, {\"id\": \"themediaisdying\"}, {\"id\": \"jezebeldodai\"}, {\"id\": \"stereogum\"}, {\"id\": \"TheOnion\"}, {\"id\": \"danielskreened\"}, {\"id\": \"msofficeus\"}, {\"id\": \"warrenellis\"}, {\"id\": \"hobobird\"}, {\"id\": \"comfest\"}, {\"id\": \"miseagrant.bsky.social\"}, {\"id\": \"michiganaudubon.org\"}, {\"id\": \"AKGovSarahPalin.\"}, {\"id\": \"bartona104.bsky.social\"}, {\"id\": \"kayarenwick.bsky.social\"}, {\"id\": \"anait_lheid\"}, {\"id\": \"tgamblin.bsky.social\"}, {\"id\": \"jorgeorchilles.bsky.social\"}, {\"id\": \"tferriss\"}, {\"id\": \"njtest2024.bsky.social\"}, {\"id\": \"Nastinchka\"}, {\"id\": \"memphisjed\"}, {\"id\": \"jyesmith\"}, {\"id\": \"norsta\"}, {\"id\": \"polycarpe.social\"}, {\"id\": \"grpl\"}, {\"id\": \"tonyfarrell.bsky.social\"}, {\"id\": \"sonicare\"}, {\"id\": \"progressivevegan.bsky.social\"}, {\"id\": \"Miseagrant\"}, {\"id\": \"marciamarcia\"}, {\"id\": \"statesman\"}, {\"id\": \"securityshell\"}, {\"id\": \"Maitre_Eolas\"}, {\"id\": \"bienbienbien\"}, {\"id\": \"defrag\"}, {\"id\": \"jamiepappas\"}, {\"id\": \"cflanagan\"}, {\"id\": \"20adoption\"}, {\"id\": \"stoweboyd\"}, {\"id\": \"louisgrayA.\"}, {\"id\": \"MeganMurray\"}, {\"id\": \"dtapscott\"}, {\"id\": \"kbeninato\"}, {\"id\": \"joshualenon.bsky.social\"}, {\"id\": \"georgestephanopolis\"}, {\"id\": \"yourdon\"}, {\"id\": \"attractions\"}, {\"id\": \"abadinte\"}, {\"id\": \"smstandard.\"}], \"links\": [{\"source\": \"leiarcaica4.bsky.social\", \"target\": \"leiarcaica5.bsky.social\", \"value\": 2}, {\"source\": \"joec0914\", \"target\": \"nateritter.com\", \"value\": 1}, {\"source\": \"missrogue\", \"target\": \"nateritter.com\", \"value\": 1}, {\"source\": \"mediaphyter.\", \"target\": \"nateritter.com\", \"value\": 1}, {\"source\": \"humanlever\", \"target\": \"nateritter.com\", \"value\": 1}, {\"source\": \"OnkelSchark\", \"target\": \"nateritter.com\", \"value\": 1}, {\"source\": \"factoryjoe\", \"target\": \"nateritter.com\", \"value\": 1}, {\"source\": \"BreakingNewsOn\", \"target\": \"nateritter.com\", \"value\": 1}, {\"source\": \"freemans\", \"target\": \"nateritter.com\", \"value\": 1}, {\"source\": \"amberminty\", \"target\": \"nateritter.com\", \"value\": 3}, {\"source\": \"lorettaelaine\", \"target\": \"transmothra.bsky.social\", \"value\": 1}, {\"source\": \"martinenatasha\", \"target\": \"mrbula.bsky.social\", \"value\": 1}, {\"source\": \"nateritter.com\", \"target\": \"sarahmcarr\", \"value\": 1}, {\"source\": \"kjellnygren\", \"target\": \"nateritter.com\", \"value\": 1}, {\"source\": \"stewtopia\", \"target\": \"transmothra.bsky.social\", \"value\": 1}, {\"source\": \"nateritter.com\", \"target\": \"tillyritter\", \"value\": 1}, {\"source\": \"mrbula.bsky.social\", \"target\": \"nathanhein\", \"value\": 1}, {\"source\": \"dearsarah.bsky.social\", \"target\": \"mickipedia\", \"value\": 1}, {\"source\": \"YoukuBuzz\", \"target\": \"fergus.bsky.social\", \"value\": 1}, {\"source\": \"dearsarah.bsky.social\", \"target\": \"tigerbeat\", \"value\": 1}, {\"source\": \"Roam2Rome\", \"target\": \"xtinecantera.bsky.social\", \"value\": 2}, {\"source\": \"MyMelange\", \"target\": \"xtinecantera.bsky.social\", \"value\": 1}, {\"source\": \"kag2u\", \"target\": \"xtinecantera.bsky.social\", \"value\": 1}, {\"source\": \"artistatlarge\", \"target\": \"xtinecantera.bsky.social\", \"value\": 1}, {\"source\": \"ironicsegue\", \"target\": \"silveraspen.bsky.social\", \"value\": 8}, {\"source\": \"donthorson\", \"target\": \"humanbn.bsky.social\", \"value\": 1}, {\"source\": \"TravelNotebook\", \"target\": \"xtinecantera.bsky.social\", \"value\": 1}, {\"source\": \"wendyperrin\", \"target\": \"xtinecantera.bsky.social\", \"value\": 1}, {\"source\": \"cbakes.\", \"target\": \"meggan.bsky.social\", \"value\": 1}, {\"source\": \"fergus.bsky.social\", \"target\": \"politics_in_aus\", \"value\": 1}, {\"source\": \"dearsarah.bsky.social\", \"target\": \"plainjanehu\", \"value\": 1}, {\"source\": \"fergus.bsky.social\", \"target\": \"modularpeople\", \"value\": 1}, {\"source\": \"mydwynter\", \"target\": \"necrotelicom.bsky.social\", \"value\": 4}, {\"source\": \"marymayblood\", \"target\": \"necrotelicom.bsky.social\", \"value\": 2}, {\"source\": \"necrotelicom.bsky.social\", \"target\": \"odori_ko\", \"value\": 1}, {\"source\": \"10bagspacking.bsky.social\", \"target\": \"alisonrose_com\", \"value\": 3}, {\"source\": \"claircmac\", \"target\": \"susanscrupski.bsky.social\", \"value\": 1}, {\"source\": \"netociety\", \"target\": \"susanscrupski.bsky.social\", \"value\": 1}, {\"source\": \"ILoveVerdi\", \"target\": \"di-atribe.bsky.social\", \"value\": 1}, {\"source\": \"genrobey\", \"target\": \"kimota.bsky.social\", \"value\": 1}, {\"source\": \"jturco.\", \"target\": \"mdmcgeary.bsky.social\", \"value\": 1}, {\"source\": \"AlaiaL\", \"target\": \"xtinecantera.bsky.social\", \"value\": 1}, {\"source\": \"mdanielson924\", \"target\": \"mrbula.bsky.social\", \"value\": 1}, {\"source\": \"dahowlett\", \"target\": \"susanscrupski.bsky.social\", \"value\": 1}, {\"source\": \"10bagspacking.bsky.social\", \"target\": \"WaywardSeedFarm\", \"value\": 1}, {\"source\": \"JRDog\", \"target\": \"xtinecantera.bsky.social\", \"value\": 1}, {\"source\": \"10bagspacking.bsky.social\", \"target\": \"Etsy\", \"value\": 1}, {\"source\": \"10bagspacking.bsky.social\", \"target\": \"plaidpony\", \"value\": 1}, {\"source\": \"10bagspacking.bsky.social\", \"target\": \"lisathewaitress\", \"value\": 2}, {\"source\": \"10bagspacking.bsky.social\", \"target\": \"columbusfoodie\", \"value\": 1}, {\"source\": \"dearsarah.bsky.social\", \"target\": \"maiasz\", \"value\": 1}, {\"source\": \"mailplane.\", \"target\": \"susanscrupski.bsky.social\", \"value\": 1}, {\"source\": \"birdmanesq\", \"target\": \"di-atribe.bsky.social\", \"value\": 1}, {\"source\": \"HappyHotelier...\", \"target\": \"xtinecantera.bsky.social\", \"value\": 1}, {\"source\": \"LPUSAstaff\", \"target\": \"xtinecantera.bsky.social\", \"value\": 1}, {\"source\": \"annmichael.bsky.social\", \"target\": \"jblossom\", \"value\": 1}, {\"source\": \"amelicl.bsky.social\", \"target\": \"benoithamon\", \"value\": 56}, {\"source\": \"jesolomon\", \"target\": \"xtinecantera.bsky.social\", \"value\": 1}, {\"source\": \"10bagspacking.bsky.social\", \"target\": \"bruetz\", \"value\": 2}, {\"source\": \"kevinpalmer.bsky.social\", \"target\": \"thorpus\", \"value\": 1}, {\"source\": \"silveraspen.bsky.social\", \"target\": \"stephmuji\", \"value\": 1}, {\"source\": \"KGSR\", \"target\": \"susanscrupski.bsky.social\", \"value\": 1}, {\"source\": \"reidontravel\", \"target\": \"xtinecantera.bsky.social\", \"value\": 1}, {\"source\": \"laughingwoman\", \"target\": \"xtinecantera.bsky.social\", \"value\": 1}, {\"source\": \"rstrohmeyer\", \"target\": \"susanscrupski.bsky.social\", \"value\": 1}, {\"source\": \"foodieguide\", \"target\": \"xtinecantera.bsky.social\", \"value\": 1}, {\"source\": \"RichardBlais\", \"target\": \"mdmcgeary.bsky.social\", \"value\": 1}, {\"source\": \"fserra\", \"target\": \"xtinecantera.bsky.social\", \"value\": 1}, {\"source\": \"dearsarah.bsky.social\", \"target\": \"jimmyfallon\", \"value\": 1}, {\"source\": \"dearsarah.bsky.social\", \"target\": \"gstrompolos\", \"value\": 1}, {\"source\": \"TheDudeDean\", \"target\": \"kevinpalmer.bsky.social\", \"value\": 1}, {\"source\": \"maketravelfair\", \"target\": \"xtinecantera.bsky.social\", \"value\": 1}, {\"source\": \"peterkim\", \"target\": \"susanscrupski.bsky.social\", \"value\": 1}, {\"source\": \"expatcoachmegan\", \"target\": \"xtinecantera.bsky.social\", \"value\": 1}, {\"source\": \"toddlucier\", \"target\": \"xtinecantera.bsky.social\", \"value\": 1}, {\"source\": \"kimota.bsky.social\", \"target\": \"trevoryoung\", \"value\": 1}, {\"source\": \"fairminder\", \"target\": \"kevinpalmer.bsky.social\", \"value\": 1}, {\"source\": \"LisaSabinWilson\", \"target\": \"kevinpalmer.bsky.social\", \"value\": 1}, {\"source\": \"captainannoying.bsky.social\", \"target\": \"tbogg\", \"value\": 1}, {\"source\": \"captainannoying.bsky.social\", \"target\": \"eegah\", \"value\": 1}, {\"source\": \"kevinpalmer.bsky.social\", \"target\": \"micah\", \"value\": 1}, {\"source\": \"leawoodward\", \"target\": \"xtinecantera.bsky.social\", \"value\": 1}, {\"source\": \"nerdseyeview\", \"target\": \"xtinecantera.bsky.social\", \"value\": 1}, {\"source\": \"laradunston\", \"target\": \"xtinecantera.bsky.social\", \"value\": 1}, {\"source\": \"travelrants\", \"target\": \"xtinecantera.bsky.social\", \"value\": 1}, {\"source\": \"thetripchicks\", \"target\": \"xtinecantera.bsky.social\", \"value\": 1}, {\"source\": \"gmail.com\", \"target\": \"xtinecantera.bsky.social\", \"value\": 1}, {\"source\": \"samdaams\", \"target\": \"xtinecantera.bsky.social\", \"value\": 1}, {\"source\": \"rbulanti\", \"target\": \"susanscrupski.bsky.social\", \"value\": 1}, {\"source\": \"CIOonline\", \"target\": \"susanscrupski.bsky.social\", \"value\": 1}, {\"source\": \"cglynch.\", \"target\": \"susanscrupski.bsky.social\", \"value\": 1}, {\"source\": \"mdmcgeary.bsky.social\", \"target\": \"the_real_shaq\", \"value\": 1}, {\"source\": \"annmichael.bsky.social\", \"target\": \"kanderson\", \"value\": 1}, {\"source\": \"10bagspacking.bsky.social\", \"target\": \"sarah_haskins\", \"value\": 1}, {\"source\": \"aejes\", \"target\": \"fr4ncis.bsky.social\", \"value\": 2}, {\"source\": \"10bagspacking.bsky.social\", \"target\": \"WCBE905Columbus\", \"value\": 1}, {\"source\": \"10bagspacking.bsky.social\", \"target\": \"DirtyFranksDogs\", \"value\": 2}, {\"source\": \"10bagspacking.bsky.social\", \"target\": \"funnyordie\", \"value\": 1}, {\"source\": \"10bagspacking.bsky.social\", \"target\": \"surlyshirley\", \"value\": 3}, {\"source\": \"10bagspacking.bsky.social\", \"target\": \"lm29\", \"value\": 1}, {\"source\": \"10bagspacking.bsky.social\", \"target\": \"apelad\", \"value\": 1}, {\"source\": \"10bagspacking.bsky.social\", \"target\": \"treehousecbus\", \"value\": 1}, {\"source\": \"10bagspacking.bsky.social\", \"target\": \"rainnwilson\", \"value\": 1}, {\"source\": \"10bagspacking.bsky.social\", \"target\": \"rtsadvocate\", \"value\": 1}, {\"source\": \"10bagspacking.bsky.social\", \"target\": \"chuckatmain\", \"value\": 1}, {\"source\": \"10bagspacking.bsky.social\", \"target\": \"donewaiting\", \"value\": 3}, {\"source\": \"10bagspacking.bsky.social\", \"target\": \"aharperhess\", \"value\": 1}, {\"source\": \"10bagspacking.bsky.social\", \"target\": \"themediaisdying\", \"value\": 1}, {\"source\": \"10bagspacking.bsky.social\", \"target\": \"jezebeldodai\", \"value\": 1}, {\"source\": \"10bagspacking.bsky.social\", \"target\": \"stereogum\", \"value\": 1}, {\"source\": \"10bagspacking.bsky.social\", \"target\": \"TheOnion\", \"value\": 1}, {\"source\": \"10bagspacking.bsky.social\", \"target\": \"danielskreened\", \"value\": 1}, {\"source\": \"msofficeus\", \"target\": \"transmothra.bsky.social\", \"value\": 1}, {\"source\": \"10bagspacking.bsky.social\", \"target\": \"warrenellis\", \"value\": 1}, {\"source\": \"10bagspacking.bsky.social\", \"target\": \"hobobird\", \"value\": 1}, {\"source\": \"10bagspacking.bsky.social\", \"target\": \"comfest\", \"value\": 1}, {\"source\": \"michiganaudubon.org\", \"target\": \"miseagrant.bsky.social\", \"value\": 1}, {\"source\": \"AKGovSarahPalin.\", \"target\": \"mdmcgeary.bsky.social\", \"value\": 1}, {\"source\": \"anait_lheid\", \"target\": \"kayarenwick.bsky.social\", \"value\": 4}, {\"source\": \"dearsarah.bsky.social\", \"target\": \"tferriss\", \"value\": 1}, {\"source\": \"Nastinchka\", \"target\": \"captainannoying.bsky.social\", \"value\": 1}, {\"source\": \"captainannoying.bsky.social\", \"target\": \"memphisjed\", \"value\": 1}, {\"source\": \"jyesmith\", \"target\": \"kimota.bsky.social\", \"value\": 1}, {\"source\": \"dearsarah.bsky.social\", \"target\": \"norsta\", \"value\": 2}, {\"source\": \"grpl\", \"target\": \"miseagrant.bsky.social\", \"value\": 1}, {\"source\": \"dearsarah.bsky.social\", \"target\": \"sonicare\", \"value\": 1}, {\"source\": \"Miseagrant\", \"target\": \"miseagrant.bsky.social\", \"value\": 1}, {\"source\": \"marciamarcia\", \"target\": \"susanscrupski.bsky.social\", \"value\": 1}, {\"source\": \"statesman\", \"target\": \"susanscrupski.bsky.social\", \"value\": 1}, {\"source\": \"jorgeorchilles.bsky.social\", \"target\": \"securityshell\", \"value\": 1}, {\"source\": \"Maitre_Eolas\", \"target\": \"amelicl.bsky.social\", \"value\": 3}, {\"source\": \"amelicl.bsky.social\", \"target\": \"bienbienbien\", \"value\": 1}, {\"source\": \"defrag\", \"target\": \"susanscrupski.bsky.social\", \"value\": 1}, {\"source\": \"jamiepappas\", \"target\": \"susanscrupski.bsky.social\", \"value\": 1}, {\"source\": \"cflanagan\", \"target\": \"susanscrupski.bsky.social\", \"value\": 1}, {\"source\": \"20adoption\", \"target\": \"susanscrupski.bsky.social\", \"value\": 1}, {\"source\": \"stoweboyd\", \"target\": \"susanscrupski.bsky.social\", \"value\": 1}, {\"source\": \"louisgrayA.\", \"target\": \"susanscrupski.bsky.social\", \"value\": 1}, {\"source\": \"MeganMurray\", \"target\": \"susanscrupski.bsky.social\", \"value\": 1}, {\"source\": \"dtapscott\", \"target\": \"susanscrupski.bsky.social\", \"value\": 1}, {\"source\": \"kbeninato\", \"target\": \"susanscrupski.bsky.social\", \"value\": 1}, {\"source\": \"georgestephanopolis\", \"target\": \"susanscrupski.bsky.social\", \"value\": 1}, {\"source\": \"susanscrupski.bsky.social\", \"target\": \"yourdon\", \"value\": 1}, {\"source\": \"attractions\", \"target\": \"soarin10.bsky.social\", \"value\": 1}, {\"source\": \"abadinte\", \"target\": \"amelicl.bsky.social\", \"value\": 10}, {\"source\": \"kimota.bsky.social\", \"target\": \"smstandard.\", \"value\": 1}, {\"source\": \"leawoodward\", \"target\": \"polycarpe.social\", \"value\": 2}, {\"source\": \"stephengraves.co.uk\", \"target\": \"warrenellis\", \"value\": 1}, {\"source\": \"gmail.com\", \"target\": \"transmothra.bsky.social\", \"value\": 1}, {\"source\": \"TheOnion\", \"target\": \"tonyfarrell.bsky.social\", \"value\": 1}]};\n",
              "  const width = window.innerWidth - 50;\n",
              "  const height = 700;\n",
              "\n",
              "  const svg = d3.select(\"#graph\")\n",
              "    .append(\"svg\")\n",
              "    .attr(\"width\", width)\n",
              "    .attr(\"height\", height)\n",
              "    .call(d3.zoom().on(\"zoom\", (event) => {\n",
              "      container.attr(\"transform\", event.transform);\n",
              "    }))\n",
              "    .append(\"g\");\n",
              "\n",
              "  const container = svg.append(\"g\");\n",
              "\n",
              "  const link = container.append(\"g\")\n",
              "    .selectAll(\"line\")\n",
              "    .data(graph.links)\n",
              "    .join(\"line\")\n",
              "    .attr(\"stroke\", \"#aaa\")\n",
              "    .attr(\"stroke-width\", d => Math.sqrt(d.value || 1));\n",
              "\n",
              "  const node = container.append(\"g\")\n",
              "    .selectAll(\"circle\")\n",
              "    .data(graph.nodes)\n",
              "    .join(\"circle\")\n",
              "    .attr(\"r\", 5)\n",
              "    .attr(\"fill\", \"steelblue\")\n",
              "    .call(d3.drag()\n",
              "      .on(\"start\", dragstart)\n",
              "      .on(\"drag\", dragged)\n",
              "      .on(\"end\", dragend));\n",
              "\n",
              "  node.append(\"title\").text(d => d.id);\n",
              "\n",
              "  const simulation = d3.forceSimulation(graph.nodes)\n",
              "    .force(\"link\", d3.forceLink(graph.links).id(d => d.id).distance(40))\n",
              "    .force(\"charge\", d3.forceManyBody().strength(-50))\n",
              "    .force(\"center\", d3.forceCenter(width / 2, height / 2))\n",
              "    .force(\"collide\", d3.forceCollide(10));\n",
              "\n",
              "  simulation.on(\"tick\", () => {\n",
              "    link\n",
              "      .attr(\"x1\", d => d.source.x)\n",
              "      .attr(\"y1\", d => d.source.y)\n",
              "      .attr(\"x2\", d => d.target.x)\n",
              "      .attr(\"y2\", d => d.target.y);\n",
              "\n",
              "    node\n",
              "      .attr(\"cx\", d => d.x)\n",
              "      .attr(\"cy\", d => d.y);\n",
              "  });\n",
              "\n",
              "  function dragstart(event) {\n",
              "    if (!event.active) simulation.alphaTarget(0.3).restart();\n",
              "    event.subject.fx = event.subject.x;\n",
              "    event.subject.fy = event.subject.y;\n",
              "  }\n",
              "\n",
              "  function dragged(event) {\n",
              "    event.subject.fx = event.x;\n",
              "    event.subject.fy = event.y;\n",
              "  }\n",
              "\n",
              "  function dragend(event) {\n",
              "    if (!event.active) simulation.alphaTarget(0);\n",
              "    event.subject.fx = null;\n",
              "    event.subject.fy = null;\n",
              "  }\n",
              "</script>\n"
            ],
            "text/plain": [
              "<IPython.core.display.HTML object>"
            ]
          },
          "execution_count": 24,
          "metadata": {},
          "output_type": "execute_result"
        }
      ],
      "source": [
        "from IPython.display import HTML\n",
        "import json\n",
        "\n",
        "with open(\"graph.json\") as f:\n",
        "    full_graph = json.load(f)\n",
        "\n",
        "# Optional: subset for performance\n",
        "subset_nodes = full_graph[\"nodes\"][:200]\n",
        "subset_ids = {n[\"id\"] for n in subset_nodes}\n",
        "subset_links = [l for l in full_graph[\"links\"] if l[\"source\"] in subset_ids and l[\"target\"] in subset_ids]\n",
        "subset_graph = {\"nodes\": subset_nodes, \"links\": subset_links}\n",
        "\n",
        "graph_json = json.dumps(subset_graph)\n",
        "\n",
        "HTML(f\"\"\"\n",
        "<div id=\"graph\" style=\"width: 100%; height: 700px; border:1px solid #ccc;\"></div>\n",
        "<script src=\"https://d3js.org/d3.v7.min.js\"></script>\n",
        "<script>\n",
        "  const graph = {graph_json};\n",
        "  const width = window.innerWidth - 50;\n",
        "  const height = 700;\n",
        "\n",
        "  const svg = d3.select(\"#graph\")\n",
        "    .append(\"svg\")\n",
        "    .attr(\"width\", width)\n",
        "    .attr(\"height\", height)\n",
        "    .call(d3.zoom().on(\"zoom\", (event) => {{\n",
        "      container.attr(\"transform\", event.transform);\n",
        "    }}))\n",
        "    .append(\"g\");\n",
        "\n",
        "  const container = svg.append(\"g\");\n",
        "\n",
        "  const link = container.append(\"g\")\n",
        "    .selectAll(\"line\")\n",
        "    .data(graph.links)\n",
        "    .join(\"line\")\n",
        "    .attr(\"stroke\", \"#aaa\")\n",
        "    .attr(\"stroke-width\", d => Math.sqrt(d.value || 1));\n",
        "\n",
        "  const node = container.append(\"g\")\n",
        "    .selectAll(\"circle\")\n",
        "    .data(graph.nodes)\n",
        "    .join(\"circle\")\n",
        "    .attr(\"r\", 5)\n",
        "    .attr(\"fill\", \"steelblue\")\n",
        "    .call(d3.drag()\n",
        "      .on(\"start\", dragstart)\n",
        "      .on(\"drag\", dragged)\n",
        "      .on(\"end\", dragend));\n",
        "\n",
        "  node.append(\"title\").text(d => d.id);\n",
        "\n",
        "  const simulation = d3.forceSimulation(graph.nodes)\n",
        "    .force(\"link\", d3.forceLink(graph.links).id(d => d.id).distance(40))\n",
        "    .force(\"charge\", d3.forceManyBody().strength(-50))\n",
        "    .force(\"center\", d3.forceCenter(width / 2, height / 2))\n",
        "    .force(\"collide\", d3.forceCollide(10));\n",
        "\n",
        "  simulation.on(\"tick\", () => {{\n",
        "    link\n",
        "      .attr(\"x1\", d => d.source.x)\n",
        "      .attr(\"y1\", d => d.source.y)\n",
        "      .attr(\"x2\", d => d.target.x)\n",
        "      .attr(\"y2\", d => d.target.y);\n",
        "\n",
        "    node\n",
        "      .attr(\"cx\", d => d.x)\n",
        "      .attr(\"cy\", d => d.y);\n",
        "  }});\n",
        "\n",
        "  function dragstart(event) {{\n",
        "    if (!event.active) simulation.alphaTarget(0.3).restart();\n",
        "    event.subject.fx = event.subject.x;\n",
        "    event.subject.fy = event.subject.y;\n",
        "  }}\n",
        "\n",
        "  function dragged(event) {{\n",
        "    event.subject.fx = event.x;\n",
        "    event.subject.fy = event.y;\n",
        "  }}\n",
        "\n",
        "  function dragend(event) {{\n",
        "    if (!event.active) simulation.alphaTarget(0);\n",
        "    event.subject.fx = null;\n",
        "    event.subject.fy = null;\n",
        "  }}\n",
        "</script>\n",
        "\"\"\")\n"
      ]
    },
    {
      "cell_type": "markdown",
      "metadata": {
        "id": "4Tq6K3CNaPPS"
      },
      "source": [
        "This cell processes the graph data from the \"graph.json\" file to prepare it for visualization using the Cytoscape.js library.\n",
        "\n",
        "1. **Load and Clean Data**: It reads the graph data from \"graph.json\", then cleans it by ensuring node IDs are valid strings and that links connect to valid nodes.\n",
        "1. **Subset Data**: To improve performance, it creates a smaller subset of the data by taking the first 100 valid nodes and all valid links connected to these nodes.\n",
        "1. **Format for Cytoscape.js**: The subsetted data is then converted into a list of elements (nodes and edges) with a structure that Cytoscape.js expects.\n",
        "1. **Create JSON String**: Finally, this list of elements is serialized into a JSON string, which will be used in the next cell to render the interactive graph visualization."
      ]
    },
    {
      "cell_type": "code",
      "execution_count": 31,
      "metadata": {
        "id": "v25y6z1GUl5b"
      },
      "outputs": [],
      "source": [
        "from IPython.display import HTML\n",
        "import json\n",
        "import re\n",
        "\n",
        "# --- Load and clean ---\n",
        "with open(\"graph.json\") as f:\n",
        "    raw_graph = json.load(f)\n",
        "\n",
        "valid_nodes = [n for n in raw_graph[\"nodes\"] if isinstance(n[\"id\"], str) and n[\"id\"].strip()]\n",
        "id_set = {n[\"id\"] for n in valid_nodes}\n",
        "valid_links = [l for l in raw_graph[\"links\"] if l[\"source\"] in id_set and l[\"target\"] in id_set]\n",
        "\n",
        "# --- Subset ---\n",
        "subset_nodes = valid_nodes[:100]\n",
        "subset_ids = {n[\"id\"] for n in subset_nodes}\n",
        "subset_links = [l for l in valid_links if l[\"source\"] in subset_ids and l[\"target\"] in subset_ids]\n",
        "\n",
        "# --- Build elements ---\n",
        "cy_elements = []\n",
        "for n in subset_nodes:\n",
        "    cy_elements.append({ \"data\": { \"id\": n[\"id\"] } })\n",
        "\n",
        "for l in subset_links:\n",
        "    cy_elements.append({\n",
        "        \"data\": {\n",
        "            \"id\": f\"{l['source']}__{l['target']}\",\n",
        "            \"source\": l[\"source\"],\n",
        "            \"target\": l[\"target\"]\n",
        "        }\n",
        "    })\n",
        "\n",
        "cy_json = json.dumps(cy_elements)\n"
      ]
    },
    {
      "cell_type": "markdown",
      "metadata": {
        "id": "ERMYguBrZ0VR"
      },
      "source": [
        "## Graph Visualization using Cytoscape.js\n",
        "This cell renders an interactive graph visualization directly in the notebook output using the Cytoscape.js JavaScript library.\n",
        "\n",
        "It takes the processed graph data (nodes and edges) generated in the previous steps and embeds it within an HTML container. Cytoscape.js is then initialized with this data, applying predefined styles for nodes and edges and using a force-directed layout ('cose') to arrange the graph elements."
      ]
    },
    {
      "cell_type": "code",
      "execution_count": 32,
      "metadata": {
        "colab": {
          "base_uri": "https://localhost:8080/",
          "height": 638
        },
        "id": "_44ZJKBuUpJ3",
        "outputId": "f950647e-8596-4739-f4f1-91d220d88bfa"
      },
      "outputs": [
        {
          "data": {
            "text/html": [
              "\n",
              "<div id=\"cy\" style=\"width: 100%; height: 600px; border: 1px solid #aaa;\"></div>\n",
              "<script src=\"https://unpkg.com/cytoscape@3.24.0/dist/cytoscape.min.js\"></script>\n",
              "<script>\n",
              "try {\n",
              "  const elements = [{\"data\": {\"id\": \"leiarcaica5.bsky.social\"}}, {\"data\": {\"id\": \"leiarcaica4.bsky.social\"}}, {\"data\": {\"id\": \"jestamusic.bsky.social\"}}, {\"data\": {\"id\": \"meggan.bsky.social\"}}, {\"data\": {\"id\": \"d365geektest.bsky.social\"}}, {\"data\": {\"id\": \"nateritter.com\"}}, {\"data\": {\"id\": \"joec0914\"}}, {\"data\": {\"id\": \"ashmaurya.bsky.social\"}}, {\"data\": {\"id\": \"mrbula.bsky.social\"}}, {\"data\": {\"id\": \"missrogue\"}}, {\"data\": {\"id\": \"mdmcgeary.bsky.social\"}}, {\"data\": {\"id\": \"humanbn.bsky.social\"}}, {\"data\": {\"id\": \"simnett.bsky.social\"}}, {\"data\": {\"id\": \"mediaphyter.\"}}, {\"data\": {\"id\": \"matthieucalu.bsky.social\"}}, {\"data\": {\"id\": \"humanlever\"}}, {\"data\": {\"id\": \"OnkelSchark\"}}, {\"data\": {\"id\": \"fergus.bsky.social\"}}, {\"data\": {\"id\": \"factoryjoe\"}}, {\"data\": {\"id\": \"BreakingNewsOn\"}}, {\"data\": {\"id\": \"xtinecantera.bsky.social\"}}, {\"data\": {\"id\": \"transmothra.bsky.social\"}}, {\"data\": {\"id\": \"freemans\"}}, {\"data\": {\"id\": \"amberminty\"}}, {\"data\": {\"id\": \"lorettaelaine\"}}, {\"data\": {\"id\": \"necrotelicom.bsky.social\"}}, {\"data\": {\"id\": \"martinenatasha\"}}, {\"data\": {\"id\": \"sarahmcarr\"}}, {\"data\": {\"id\": \"kjellnygren\"}}, {\"data\": {\"id\": \"stewtopia\"}}, {\"data\": {\"id\": \"tillyritter\"}}, {\"data\": {\"id\": \"nathanhein\"}}, {\"data\": {\"id\": \"dearsarah.bsky.social\"}}, {\"data\": {\"id\": \"mickipedia\"}}, {\"data\": {\"id\": \"YoukuBuzz\"}}, {\"data\": {\"id\": \"davidglasser.net\"}}, {\"data\": {\"id\": \"tigerbeat\"}}, {\"data\": {\"id\": \"Roam2Rome\"}}, {\"data\": {\"id\": \"MyMelange\"}}, {\"data\": {\"id\": \"kag2u\"}}, {\"data\": {\"id\": \"artistatlarge\"}}, {\"data\": {\"id\": \"amelicl.bsky.social\"}}, {\"data\": {\"id\": \"captainannoying.bsky.social\"}}, {\"data\": {\"id\": \"10bagspacking.bsky.social\"}}, {\"data\": {\"id\": \"silveraspen.bsky.social\"}}, {\"data\": {\"id\": \"ironicsegue\"}}, {\"data\": {\"id\": \"donthorson\"}}, {\"data\": {\"id\": \"sachajudd.com\"}}, {\"data\": {\"id\": \"TravelNotebook\"}}, {\"data\": {\"id\": \"wendyperrin\"}}, {\"data\": {\"id\": \"cbakes.\"}}, {\"data\": {\"id\": \"politics_in_aus\"}}, {\"data\": {\"id\": \"plainjanehu\"}}, {\"data\": {\"id\": \"jeff.at\"}}, {\"data\": {\"id\": \"modularpeople\"}}, {\"data\": {\"id\": \"di-atribe.bsky.social\"}}, {\"data\": {\"id\": \"mydwynter\"}}, {\"data\": {\"id\": \"marymayblood\"}}, {\"data\": {\"id\": \"odori_ko\"}}, {\"data\": {\"id\": \"herb247.bsky.social\"}}, {\"data\": {\"id\": \"alisonrose_com\"}}, {\"data\": {\"id\": \"susanscrupski.bsky.social\"}}, {\"data\": {\"id\": \"claircmac\"}}, {\"data\": {\"id\": \"netociety\"}}, {\"data\": {\"id\": \"ILoveVerdi\"}}, {\"data\": {\"id\": \"soarin10.bsky.social\"}}, {\"data\": {\"id\": \"ffmisadoraduncan.bsky.social\"}}, {\"data\": {\"id\": \"kimota.bsky.social\"}}, {\"data\": {\"id\": \"genrobey\"}}, {\"data\": {\"id\": \"jturco.\"}}, {\"data\": {\"id\": \"harrisonamj.com\"}}, {\"data\": {\"id\": \"kootsoop.com\"}}, {\"data\": {\"id\": \"stephengraves.co.uk\"}}, {\"data\": {\"id\": \"AlaiaL\"}}, {\"data\": {\"id\": \"mdanielson924\"}}, {\"data\": {\"id\": \"dahowlett\"}}, {\"data\": {\"id\": \"WaywardSeedFarm\"}}, {\"data\": {\"id\": \"JRDog\"}}, {\"data\": {\"id\": \"Etsy\"}}, {\"data\": {\"id\": \"plaidpony\"}}, {\"data\": {\"id\": \"lisathewaitress\"}}, {\"data\": {\"id\": \"columbusfoodie\"}}, {\"data\": {\"id\": \"maiasz\"}}, {\"data\": {\"id\": \"mailplane.\"}}, {\"data\": {\"id\": \"kevinpalmer.bsky.social\"}}, {\"data\": {\"id\": \"tourgueniev.bsky.social\"}}, {\"data\": {\"id\": \"sandikt.bsky.social\"}}, {\"data\": {\"id\": \"birdmanesq\"}}, {\"data\": {\"id\": \"HappyHotelier...\"}}, {\"data\": {\"id\": \"LPUSAstaff\"}}, {\"data\": {\"id\": \"reginawhite.bsky.social\"}}, {\"data\": {\"id\": \"etoiline.bsky.social\"}}, {\"data\": {\"id\": \"annmichael.bsky.social\"}}, {\"data\": {\"id\": \"jblossom\"}}, {\"data\": {\"id\": \"benoithamon\"}}, {\"data\": {\"id\": \"jesolomon\"}}, {\"data\": {\"id\": \"bruetz\"}}, {\"data\": {\"id\": \"thorpus\"}}, {\"data\": {\"id\": \"christin612.bsky.social\"}}, {\"data\": {\"id\": \"stephmuji\"}}, {\"data\": {\"id\": \"leiarcaica4.bsky.social__leiarcaica5.bsky.social\", \"source\": \"leiarcaica4.bsky.social\", \"target\": \"leiarcaica5.bsky.social\"}}, {\"data\": {\"id\": \"joec0914__nateritter.com\", \"source\": \"joec0914\", \"target\": \"nateritter.com\"}}, {\"data\": {\"id\": \"missrogue__nateritter.com\", \"source\": \"missrogue\", \"target\": \"nateritter.com\"}}, {\"data\": {\"id\": \"mediaphyter.__nateritter.com\", \"source\": \"mediaphyter.\", \"target\": \"nateritter.com\"}}, {\"data\": {\"id\": \"humanlever__nateritter.com\", \"source\": \"humanlever\", \"target\": \"nateritter.com\"}}, {\"data\": {\"id\": \"OnkelSchark__nateritter.com\", \"source\": \"OnkelSchark\", \"target\": \"nateritter.com\"}}, {\"data\": {\"id\": \"factoryjoe__nateritter.com\", \"source\": \"factoryjoe\", \"target\": \"nateritter.com\"}}, {\"data\": {\"id\": \"BreakingNewsOn__nateritter.com\", \"source\": \"BreakingNewsOn\", \"target\": \"nateritter.com\"}}, {\"data\": {\"id\": \"freemans__nateritter.com\", \"source\": \"freemans\", \"target\": \"nateritter.com\"}}, {\"data\": {\"id\": \"amberminty__nateritter.com\", \"source\": \"amberminty\", \"target\": \"nateritter.com\"}}, {\"data\": {\"id\": \"lorettaelaine__transmothra.bsky.social\", \"source\": \"lorettaelaine\", \"target\": \"transmothra.bsky.social\"}}, {\"data\": {\"id\": \"martinenatasha__mrbula.bsky.social\", \"source\": \"martinenatasha\", \"target\": \"mrbula.bsky.social\"}}, {\"data\": {\"id\": \"nateritter.com__sarahmcarr\", \"source\": \"nateritter.com\", \"target\": \"sarahmcarr\"}}, {\"data\": {\"id\": \"kjellnygren__nateritter.com\", \"source\": \"kjellnygren\", \"target\": \"nateritter.com\"}}, {\"data\": {\"id\": \"stewtopia__transmothra.bsky.social\", \"source\": \"stewtopia\", \"target\": \"transmothra.bsky.social\"}}, {\"data\": {\"id\": \"nateritter.com__tillyritter\", \"source\": \"nateritter.com\", \"target\": \"tillyritter\"}}, {\"data\": {\"id\": \"mrbula.bsky.social__nathanhein\", \"source\": \"mrbula.bsky.social\", \"target\": \"nathanhein\"}}, {\"data\": {\"id\": \"dearsarah.bsky.social__mickipedia\", \"source\": \"dearsarah.bsky.social\", \"target\": \"mickipedia\"}}, {\"data\": {\"id\": \"YoukuBuzz__fergus.bsky.social\", \"source\": \"YoukuBuzz\", \"target\": \"fergus.bsky.social\"}}, {\"data\": {\"id\": \"dearsarah.bsky.social__tigerbeat\", \"source\": \"dearsarah.bsky.social\", \"target\": \"tigerbeat\"}}, {\"data\": {\"id\": \"Roam2Rome__xtinecantera.bsky.social\", \"source\": \"Roam2Rome\", \"target\": \"xtinecantera.bsky.social\"}}, {\"data\": {\"id\": \"MyMelange__xtinecantera.bsky.social\", \"source\": \"MyMelange\", \"target\": \"xtinecantera.bsky.social\"}}, {\"data\": {\"id\": \"kag2u__xtinecantera.bsky.social\", \"source\": \"kag2u\", \"target\": \"xtinecantera.bsky.social\"}}, {\"data\": {\"id\": \"artistatlarge__xtinecantera.bsky.social\", \"source\": \"artistatlarge\", \"target\": \"xtinecantera.bsky.social\"}}, {\"data\": {\"id\": \"ironicsegue__silveraspen.bsky.social\", \"source\": \"ironicsegue\", \"target\": \"silveraspen.bsky.social\"}}, {\"data\": {\"id\": \"donthorson__humanbn.bsky.social\", \"source\": \"donthorson\", \"target\": \"humanbn.bsky.social\"}}, {\"data\": {\"id\": \"TravelNotebook__xtinecantera.bsky.social\", \"source\": \"TravelNotebook\", \"target\": \"xtinecantera.bsky.social\"}}, {\"data\": {\"id\": \"wendyperrin__xtinecantera.bsky.social\", \"source\": \"wendyperrin\", \"target\": \"xtinecantera.bsky.social\"}}, {\"data\": {\"id\": \"cbakes.__meggan.bsky.social\", \"source\": \"cbakes.\", \"target\": \"meggan.bsky.social\"}}, {\"data\": {\"id\": \"fergus.bsky.social__politics_in_aus\", \"source\": \"fergus.bsky.social\", \"target\": \"politics_in_aus\"}}, {\"data\": {\"id\": \"dearsarah.bsky.social__plainjanehu\", \"source\": \"dearsarah.bsky.social\", \"target\": \"plainjanehu\"}}, {\"data\": {\"id\": \"fergus.bsky.social__modularpeople\", \"source\": \"fergus.bsky.social\", \"target\": \"modularpeople\"}}, {\"data\": {\"id\": \"mydwynter__necrotelicom.bsky.social\", \"source\": \"mydwynter\", \"target\": \"necrotelicom.bsky.social\"}}, {\"data\": {\"id\": \"marymayblood__necrotelicom.bsky.social\", \"source\": \"marymayblood\", \"target\": \"necrotelicom.bsky.social\"}}, {\"data\": {\"id\": \"necrotelicom.bsky.social__odori_ko\", \"source\": \"necrotelicom.bsky.social\", \"target\": \"odori_ko\"}}, {\"data\": {\"id\": \"10bagspacking.bsky.social__alisonrose_com\", \"source\": \"10bagspacking.bsky.social\", \"target\": \"alisonrose_com\"}}, {\"data\": {\"id\": \"claircmac__susanscrupski.bsky.social\", \"source\": \"claircmac\", \"target\": \"susanscrupski.bsky.social\"}}, {\"data\": {\"id\": \"netociety__susanscrupski.bsky.social\", \"source\": \"netociety\", \"target\": \"susanscrupski.bsky.social\"}}, {\"data\": {\"id\": \"ILoveVerdi__di-atribe.bsky.social\", \"source\": \"ILoveVerdi\", \"target\": \"di-atribe.bsky.social\"}}, {\"data\": {\"id\": \"genrobey__kimota.bsky.social\", \"source\": \"genrobey\", \"target\": \"kimota.bsky.social\"}}, {\"data\": {\"id\": \"jturco.__mdmcgeary.bsky.social\", \"source\": \"jturco.\", \"target\": \"mdmcgeary.bsky.social\"}}, {\"data\": {\"id\": \"AlaiaL__xtinecantera.bsky.social\", \"source\": \"AlaiaL\", \"target\": \"xtinecantera.bsky.social\"}}, {\"data\": {\"id\": \"mdanielson924__mrbula.bsky.social\", \"source\": \"mdanielson924\", \"target\": \"mrbula.bsky.social\"}}, {\"data\": {\"id\": \"dahowlett__susanscrupski.bsky.social\", \"source\": \"dahowlett\", \"target\": \"susanscrupski.bsky.social\"}}, {\"data\": {\"id\": \"10bagspacking.bsky.social__WaywardSeedFarm\", \"source\": \"10bagspacking.bsky.social\", \"target\": \"WaywardSeedFarm\"}}, {\"data\": {\"id\": \"JRDog__xtinecantera.bsky.social\", \"source\": \"JRDog\", \"target\": \"xtinecantera.bsky.social\"}}, {\"data\": {\"id\": \"10bagspacking.bsky.social__Etsy\", \"source\": \"10bagspacking.bsky.social\", \"target\": \"Etsy\"}}, {\"data\": {\"id\": \"10bagspacking.bsky.social__plaidpony\", \"source\": \"10bagspacking.bsky.social\", \"target\": \"plaidpony\"}}, {\"data\": {\"id\": \"10bagspacking.bsky.social__lisathewaitress\", \"source\": \"10bagspacking.bsky.social\", \"target\": \"lisathewaitress\"}}, {\"data\": {\"id\": \"10bagspacking.bsky.social__columbusfoodie\", \"source\": \"10bagspacking.bsky.social\", \"target\": \"columbusfoodie\"}}, {\"data\": {\"id\": \"dearsarah.bsky.social__maiasz\", \"source\": \"dearsarah.bsky.social\", \"target\": \"maiasz\"}}, {\"data\": {\"id\": \"mailplane.__susanscrupski.bsky.social\", \"source\": \"mailplane.\", \"target\": \"susanscrupski.bsky.social\"}}, {\"data\": {\"id\": \"birdmanesq__di-atribe.bsky.social\", \"source\": \"birdmanesq\", \"target\": \"di-atribe.bsky.social\"}}, {\"data\": {\"id\": \"HappyHotelier...__xtinecantera.bsky.social\", \"source\": \"HappyHotelier...\", \"target\": \"xtinecantera.bsky.social\"}}, {\"data\": {\"id\": \"LPUSAstaff__xtinecantera.bsky.social\", \"source\": \"LPUSAstaff\", \"target\": \"xtinecantera.bsky.social\"}}, {\"data\": {\"id\": \"annmichael.bsky.social__jblossom\", \"source\": \"annmichael.bsky.social\", \"target\": \"jblossom\"}}, {\"data\": {\"id\": \"amelicl.bsky.social__benoithamon\", \"source\": \"amelicl.bsky.social\", \"target\": \"benoithamon\"}}, {\"data\": {\"id\": \"jesolomon__xtinecantera.bsky.social\", \"source\": \"jesolomon\", \"target\": \"xtinecantera.bsky.social\"}}, {\"data\": {\"id\": \"10bagspacking.bsky.social__bruetz\", \"source\": \"10bagspacking.bsky.social\", \"target\": \"bruetz\"}}, {\"data\": {\"id\": \"kevinpalmer.bsky.social__thorpus\", \"source\": \"kevinpalmer.bsky.social\", \"target\": \"thorpus\"}}, {\"data\": {\"id\": \"silveraspen.bsky.social__stephmuji\", \"source\": \"silveraspen.bsky.social\", \"target\": \"stephmuji\"}}];\n",
              "  const cy = cytoscape({\n",
              "    container: document.getElementById('cy'),\n",
              "    elements: elements,\n",
              "    style: [\n",
              "      {\n",
              "        selector: 'node',\n",
              "        style: {\n",
              "          'label': 'data(id)',\n",
              "          'width': 10,\n",
              "          'height': 10,\n",
              "          'font-size': 5,\n",
              "          'background-color': '#0074D9',\n",
              "          'text-valign': 'center',\n",
              "          'text-halign': 'center',\n",
              "          'color': '#fff'\n",
              "        }\n",
              "      },\n",
              "      {\n",
              "        selector: 'edge',\n",
              "        style: {\n",
              "          'width': 1,\n",
              "          'line-color': '#ccc',\n",
              "          'opacity': 0.7\n",
              "        }\n",
              "      }\n",
              "    ],\n",
              "    layout: {\n",
              "      name: 'cose',\n",
              "      animate: true,\n",
              "      fit: true,\n",
              "      padding: 10\n",
              "    }\n",
              "  });\n",
              "\n",
              "  console.log(\"Cytoscape loaded successfully with\", elements.length, \"elements.\");\n",
              "} catch (err) {\n",
              "  console.error(\"Cytoscape error:\", err);\n",
              "}\n",
              "</script>\n"
            ],
            "text/plain": [
              "<IPython.core.display.HTML object>"
            ]
          },
          "execution_count": 32,
          "metadata": {},
          "output_type": "execute_result"
        }
      ],
      "source": [
        "HTML(f\"\"\"\n",
        "<div id=\"cy\" style=\"width: 100%; height: 600px; border: 1px solid #aaa;\"></div>\n",
        "<script src=\"https://unpkg.com/cytoscape@3.24.0/dist/cytoscape.min.js\"></script>\n",
        "<script>\n",
        "try {{\n",
        "  const elements = {cy_json};\n",
        "  const cy = cytoscape({{\n",
        "    container: document.getElementById('cy'),\n",
        "    elements: elements,\n",
        "    style: [\n",
        "      {{\n",
        "        selector: 'node',\n",
        "        style: {{\n",
        "          'label': 'data(id)',\n",
        "          'width': 10,\n",
        "          'height': 10,\n",
        "          'font-size': 5,\n",
        "          'background-color': '#0074D9',\n",
        "          'text-valign': 'center',\n",
        "          'text-halign': 'center',\n",
        "          'color': '#fff'\n",
        "        }}\n",
        "      }},\n",
        "      {{\n",
        "        selector: 'edge',\n",
        "        style: {{\n",
        "          'width': 1,\n",
        "          'line-color': '#ccc',\n",
        "          'opacity': 0.7\n",
        "        }}\n",
        "      }}\n",
        "    ],\n",
        "    layout: {{\n",
        "      name: 'cose',\n",
        "      animate: true,\n",
        "      fit: true,\n",
        "      padding: 10\n",
        "    }}\n",
        "  }});\n",
        "\n",
        "  console.log(\"Cytoscape loaded successfully with\", elements.length, \"elements.\");\n",
        "}} catch (err) {{\n",
        "  console.error(\"Cytoscape error:\", err);\n",
        "}}\n",
        "</script>\n",
        "\"\"\")\n"
      ]
    }
  ],
  "metadata": {
    "colab": {
      "authorship_tag": "ABX9TyN64MqwMZL4CZx9zjlgCua4",
      "include_colab_link": true,
      "provenance": []
    },
    "kernelspec": {
      "display_name": "Python 3",
      "name": "python3"
    },
    "language_info": {
      "name": "python"
    }
  },
  "nbformat": 4,
  "nbformat_minor": 0
}
